{
  "nbformat": 4,
  "nbformat_minor": 0,
  "metadata": {
    "colab": {
      "provenance": [],
      "authorship_tag": "ABX9TyPl7hDMTL7J6lPYazR1+MnO",
      "include_colab_link": true
    },
    "kernelspec": {
      "name": "python3",
      "display_name": "Python 3"
    },
    "language_info": {
      "name": "python"
    }
  },
  "cells": [
    {
      "cell_type": "markdown",
      "metadata": {
        "id": "view-in-github",
        "colab_type": "text"
      },
      "source": [
        "<a href=\"https://colab.research.google.com/github/ZhukovskayaT/MMVSULAB1/blob/main/Untitled0.ipynb\" target=\"_parent\"><img src=\"https://colab.research.google.com/assets/colab-badge.svg\" alt=\"Open In Colab\"/></a>"
      ]
    },
    {
      "cell_type": "code",
      "execution_count": null,
      "metadata": {
        "id": "Z14qR0NiRlRR"
      },
      "outputs": [],
      "source": []
    },
    {
      "cell_type": "markdown",
      "source": [
        "Лабораторная №1"
      ],
      "metadata": {
        "id": "XVLwtQCdSeyQ"
      }
    },
    {
      "cell_type": "code",
      "source": [],
      "metadata": {
        "id": "djUhmM6XSi7V"
      },
      "execution_count": null,
      "outputs": []
    },
    {
      "cell_type": "markdown",
      "source": [
        "Задание №1. Построение математической модели x'=kx."
      ],
      "metadata": {
        "id": "lZfH-hsXSj-6"
      }
    },
    {
      "cell_type": "code",
      "source": [
        "import matplotlib.pyplot as plt\n",
        "import numpy as np\n",
        "from scipy.integrate import odeint\n",
        "def dydt(y,t):\n",
        "  k=0.44\n",
        "  return k*y\n",
        "t=np.linspace(0,10,100)\n",
        "solve=odeint(dydt, y0=1, t=t)\n",
        "solve=solve.flatten()\n",
        "%matplotlib inline\n",
        "plt.plot(t, solve, label=r\"x'=kx\")\n",
        "plt.grid(True)\n",
        "plt.legend()\n",
        "plt.show()"
      ],
      "metadata": {
        "colab": {
          "base_uri": "https://localhost:8080/",
          "height": 265
        },
        "id": "Ba0ju8u7Sye6",
        "outputId": "b0bd55df-87f8-4e47-8ca8-6b3997c040e0"
      },
      "execution_count": 6,
      "outputs": [
        {
          "output_type": "display_data",
          "data": {
            "text/plain": [
              "<Figure size 432x288 with 1 Axes>"
            ],
            "image/png": "[encoded data removed]"
          },
          "metadata": {
            "needs_background": "light"
          }
        }
      ]
    },
    {
      "cell_type": "markdown",
      "source": [
        "Задание №2. Построение математической модели x'=k(x)x, где k(x)=ax-b."
      ],
      "metadata": {
        "id": "bpqKuQNnUXu5"
      }
    },
    {
      "cell_type": "code",
      "source": [
        "import matplotlib.pyplot as plt\n",
        "import numpy as np\n",
        "from scipy.integrate import odeint\n",
        "a=1\n",
        "b=9\n",
        "def dydt(x,t):\n",
        "  return k(x)*x\n",
        "def k(x):\n",
        "  return a*x-b\n",
        "t = np.linspace(0,10,100)\n",
        "solve = odeint(dydt, 1, t=t)\n",
        "solve = solve.flatten()\n",
        "%matplotlib inline \n",
        "plt.plot(t, solve, label = r\"x'=k(x)*x\")\n",
        "plt.grid(True)\n",
        "plt.legend()\n",
        "plt.show()"
      ],
      "metadata": {
        "colab": {
          "base_uri": "https://localhost:8080/",
          "height": 265
        },
        "id": "Yjws1yvqUav8",
        "outputId": "a32c47a7-0da2-4cae-eb06-a18f89bcbbc7"
      },
      "execution_count": 5,
      "outputs": [
        {
          "output_type": "display_data",
          "data": {
            "text/plain": [
              "<Figure size 432x288 with 1 Axes>"
            ],
            "image/png": "[encoded data removed]"
          },
          "metadata": {
            "needs_background": "light"
          }
        }
      ]
    },
    {
      "cell_type": "markdown",
      "source": [
        "Задание №3. Построение математической модели x'=k(x)x-c."
      ],
      "metadata": {
        "id": "_vmGOEOLVCBG"
      }
    },
    {
      "cell_type": "code",
      "source": [
        "\n",
        "import matplotlib.pyplot as plt\n",
        "import numpy as np\n",
        "from scipy.integrate import odeint\n",
        "\n",
        "def dydt(x,t):\n",
        "  c=3\n",
        "  return k(x)*x-c\n",
        "def k(x):\n",
        "  a=1\n",
        "  b=5\n",
        "  return a*x-b\n",
        "t = np.linspace(0,10,100)\n",
        "solve = odeint(dydt, 1, t=t)\n",
        "solve = solve.flatten()\n",
        "%matplotlib inline \n",
        "plt.plot(t, solve, label = r\"x'=k(x)x-c\")\n",
        "plt.grid(True)\n",
        "plt.legend()\n",
        "plt.show()"
      ],
      "metadata": {
        "colab": {
          "base_uri": "https://localhost:8080/",
          "height": 265
        },
        "id": "K4-mpfKRVNpW",
        "outputId": "eb5dbf32-2fb1-42d2-ce66-7c87a94b4ce9"
      },
      "execution_count": 7,
      "outputs": [
        {
          "output_type": "display_data",
          "data": {
            "text/plain": [
              "<Figure size 432x288 with 1 Axes>"
            ],
            "image/png": "[encoded data removed]"
          },
          "metadata": {
            "needs_background": "light"
          }
        }
      ]
    },
    {
      "cell_type": "markdown",
      "source": [
        "Задание №4. Построение математической модели x'=k(x)x-c(x)."
      ],
      "metadata": {
        "id": "s6IJm_iGVt6O"
      }
    },
    {
      "cell_type": "code",
      "source": [
        "import matplotlib.pyplot as plt\n",
        "import numpy as np\n",
        "from scipy.integrate import odeint\n",
        "\n",
        "def dydt(x,t):\n",
        "  c=1\n",
        "  return k(x)*x-c\n",
        "def c(x):\n",
        "  a=1\n",
        "  return a*x\n",
        "def k(x):\n",
        "  a=1\n",
        "  b=2\n",
        "  return a*x-b\n",
        "t = np.linspace(0,10,100)\n",
        "solve = odeint(dydt, 1, t=t)\n",
        "solve = solve.flatten()\n",
        "%matplotlib inline \n",
        "plt.plot(t, solve, label = r\"x'=k(x)x-c(x)\")\n",
        "plt.grid(True)\n",
        "plt.legend()\n",
        "plt.show()"
      ],
      "metadata": {
        "colab": {
          "base_uri": "https://localhost:8080/",
          "height": 265
        },
        "id": "nWeYS9dgV6rA",
        "outputId": "6494ee4c-2b73-4681-d96a-84818c405625"
      },
      "execution_count": 12,
      "outputs": [
        {
          "output_type": "display_data",
          "data": {
            "text/plain": [
              "<Figure size 432x288 with 1 Axes>"
            ],
            "image/png": "[encoded data removed]"
          },
          "metadata": {
            "needs_background": "light"
          }
        }
      ]
    },
    {
      "cell_type": "code",
      "source": [],
      "metadata": {
        "id": "VUMaVgSMSoJt"
      },
      "execution_count": null,
      "outputs": []
    }
  ]
}